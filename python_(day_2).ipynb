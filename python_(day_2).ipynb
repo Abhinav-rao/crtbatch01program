{
  "nbformat": 4,
  "nbformat_minor": 0,
  "metadata": {
    "colab": {
      "name": "python (day 2) ",
      "provenance": [],
      "include_colab_link": true
    },
    "kernelspec": {
      "name": "python3",
      "display_name": "Python 3"
    }
  },
  "cells": [
    {
      "cell_type": "markdown",
      "metadata": {
        "id": "view-in-github",
        "colab_type": "text"
      },
      "source": [
        "<a href=\"https://colab.research.google.com/github/Abhinav-rao/crtbatch01program/blob/master/python_(day_2).ipynb\" target=\"_parent\"><img src=\"https://colab.research.google.com/assets/colab-badge.svg\" alt=\"Open In Colab\"/></a>"
      ]
    },
    {
      "cell_type": "markdown",
      "metadata": {
        "id": "qO1_BLyNVS2k",
        "colab_type": "text"
      },
      "source": [
        ""
      ]
    },
    {
      "cell_type": "markdown",
      "metadata": {
        "id": "T9NRyegMVUVv",
        "colab_type": "text"
      },
      "source": [
        "loops\n"
      ]
    },
    {
      "cell_type": "code",
      "metadata": {
        "id": "TJsdpVewVqnm",
        "colab_type": "code",
        "colab": {
          "base_uri": "https://localhost:8080/",
          "height": 50
        },
        "outputId": "1e1478cd-a098-47a2-c3fb-a75e929c2739"
      },
      "source": [
        "n = int(input(\" \"))\n",
        "i=1\n",
        "while i<=n:\n",
        "   print(i, end=' ')\n",
        "   i=i+1\n"
      ],
      "execution_count": 3,
      "outputs": [
        {
          "output_type": "stream",
          "text": [
            " 10\n",
            "1 2 3 4 5 6 7 8 9 10 "
          ],
          "name": "stdout"
        }
      ]
    },
    {
      "cell_type": "code",
      "metadata": {
        "id": "kAtHPbwzXtax",
        "colab_type": "code",
        "colab": {
          "base_uri": "https://localhost:8080/",
          "height": 34
        },
        "outputId": "0aa89e0d-05dd-4cf7-ca75-f653f5a7e7c3"
      },
      "source": [
        "n = 123\n",
        "sum = 0\n",
        "while n!=0:\n",
        "  r = n%10\n",
        "  sum = sum+r\n",
        "  n = n//10\n",
        "print(sum)\n",
        "\n"
      ],
      "execution_count": 5,
      "outputs": [
        {
          "output_type": "stream",
          "text": [
            "6\n"
          ],
          "name": "stdout"
        }
      ]
    },
    {
      "cell_type": "code",
      "metadata": {
        "id": "kReV-Ybcak7U",
        "colab_type": "code",
        "colab": {
          "base_uri": "https://localhost:8080/",
          "height": 50
        },
        "outputId": "b2859fe3-3277-4390-8042-213f7f8daad3"
      },
      "source": [
        "n = int(input(\" \"))\n",
        "while n!=0:\n",
        "  print(n%10,end=\" \")\n",
        "  n =n//10\n"
      ],
      "execution_count": 7,
      "outputs": [
        {
          "output_type": "stream",
          "text": [
            " 123\n",
            "3 2 1 "
          ],
          "name": "stdout"
        }
      ]
    },
    {
      "cell_type": "code",
      "metadata": {
        "id": "vssWwqbCea-Y",
        "colab_type": "code",
        "colab": {
          "base_uri": "https://localhost:8080/",
          "height": 185
        },
        "outputId": "f1267324-6f10-49e8-b694-42835b7b6138"
      },
      "source": [
        "for i in range(0, 10):\n",
        "  print(i)"
      ],
      "execution_count": 8,
      "outputs": [
        {
          "output_type": "stream",
          "text": [
            "0\n",
            "1\n",
            "2\n",
            "3\n",
            "4\n",
            "5\n",
            "6\n",
            "7\n",
            "8\n",
            "9\n"
          ],
          "name": "stdout"
        }
      ]
    },
    {
      "cell_type": "code",
      "metadata": {
        "id": "-q9z7gYxfD7X",
        "colab_type": "code",
        "colab": {
          "base_uri": "https://localhost:8080/",
          "height": 202
        },
        "outputId": "0abb7482-80fd-41a5-f441-a8390cdfc394"
      },
      "source": [
        "for i in range(0,10+1):\n",
        "  print(i)\n",
        "  "
      ],
      "execution_count": 9,
      "outputs": [
        {
          "output_type": "stream",
          "text": [
            "0\n",
            "1\n",
            "2\n",
            "3\n",
            "4\n",
            "5\n",
            "6\n",
            "7\n",
            "8\n",
            "9\n",
            "10\n"
          ],
          "name": "stdout"
        }
      ]
    },
    {
      "cell_type": "code",
      "metadata": {
        "id": "AL5HS51dfO3g",
        "colab_type": "code",
        "colab": {
          "base_uri": "https://localhost:8080/",
          "height": 218
        },
        "outputId": "d5e35a41-6d99-49cb-f3f5-5f50327a39bd"
      },
      "source": [
        "for i in range(0,10+2):\n",
        "  print(i)"
      ],
      "execution_count": 10,
      "outputs": [
        {
          "output_type": "stream",
          "text": [
            "0\n",
            "1\n",
            "2\n",
            "3\n",
            "4\n",
            "5\n",
            "6\n",
            "7\n",
            "8\n",
            "9\n",
            "10\n",
            "11\n"
          ],
          "name": "stdout"
        }
      ]
    },
    {
      "cell_type": "code",
      "metadata": {
        "id": "8OfCysO3fb4m",
        "colab_type": "code",
        "colab": {
          "base_uri": "https://localhost:8080/",
          "height": 118
        },
        "outputId": "7cb63c62-e57c-42e2-9630-a3b6cfd36344"
      },
      "source": [
        "for i in \"python\":\n",
        "  print(i)"
      ],
      "execution_count": 11,
      "outputs": [
        {
          "output_type": "stream",
          "text": [
            "p\n",
            "y\n",
            "t\n",
            "h\n",
            "o\n",
            "n\n"
          ],
          "name": "stdout"
        }
      ]
    },
    {
      "cell_type": "code",
      "metadata": {
        "id": "UfjInAYAj-Cn",
        "colab_type": "code",
        "colab": {
          "base_uri": "https://localhost:8080/",
          "height": 34
        },
        "outputId": "71e2eed5-159c-4a94-9709-caea6b1b267a"
      },
      "source": [
        "def addition(a,b):\n",
        "  c= a+b\n",
        "  print(c)\n",
        "addition(1,2)\n"
      ],
      "execution_count": 27,
      "outputs": [
        {
          "output_type": "stream",
          "text": [
            "3\n"
          ],
          "name": "stdout"
        }
      ]
    },
    {
      "cell_type": "code",
      "metadata": {
        "id": "pV8F59SilnPB",
        "colab_type": "code",
        "colab": {
          "base_uri": "https://localhost:8080/",
          "height": 34
        },
        "outputId": "d3344117-6314-484d-84ef-b90621c78e7b"
      },
      "source": [
        "def evendigitsum(n):\n",
        "  sum = 0\n",
        "  while n!=0:\n",
        "    r = n%10\n",
        "    if r%2==0:\n",
        "      sum = sum+r\n",
        "    n=n//10\n",
        "  return sum\n",
        "evendigitsum(1234)  "
      ],
      "execution_count": 37,
      "outputs": [
        {
          "output_type": "execute_result",
          "data": {
            "text/plain": [
              "6"
            ]
          },
          "metadata": {
            "tags": []
          },
          "execution_count": 37
        }
      ]
    },
    {
      "cell_type": "code",
      "metadata": {
        "id": "pJxc7_y4ntHG",
        "colab_type": "code",
        "colab": {
          "base_uri": "https://localhost:8080/",
          "height": 34
        },
        "outputId": "f000edb0-d2da-49f0-c6db-5546aec23785"
      },
      "source": [
        "def evendigitsum(n):\n",
        "  sum = 0\n",
        "  while n!=0:\n",
        "    r = n%10\n",
        "    if r%2==0:\n",
        "      sum = sum+r\n",
        "    n=n//10\n",
        "  print (sum)\n",
        "even1 = evendigitsum(1234)\n",
        "even1  "
      ],
      "execution_count": 39,
      "outputs": [
        {
          "output_type": "stream",
          "text": [
            "6\n"
          ],
          "name": "stdout"
        }
      ]
    },
    {
      "cell_type": "code",
      "metadata": {
        "id": "L2NIUhdYqFR5",
        "colab_type": "code",
        "colab": {
          "base_uri": "https://localhost:8080/",
          "height": 34
        },
        "outputId": "c20285af-4149-4a8f-c384-e7f36f5768a3"
      },
      "source": [
        "def largedigit(n):\n",
        "  large = 0\n",
        "  while n!=0:\n",
        "    r=n%10\n",
        "    if large<r:\n",
        "       large = r\n",
        "    n = n//10\n",
        "  return large  \n",
        "largedigit(19355)"
      ],
      "execution_count": 47,
      "outputs": [
        {
          "output_type": "execute_result",
          "data": {
            "text/plain": [
              "9"
            ]
          },
          "metadata": {
            "tags": []
          },
          "execution_count": 47
        }
      ]
    },
    {
      "cell_type": "code",
      "metadata": {
        "id": "REofKfE9rp8v",
        "colab_type": "code",
        "colab": {}
      },
      "source": [
        "def palindrome(n):\n",
        "  rev=0\n",
        "  buffer = n\n",
        "  while n!=0:\n",
        "    rev=rev *10 +(n%10)\n",
        "    n = n//10\n",
        "  if rev ==buffer:\n",
        "    return\"plaindrome\"\n",
        "  return\"not palindrome\"\n",
        "print(palindrome(121))\n",
        "palindrome(123) "
      ],
      "execution_count": 0,
      "outputs": []
    }
  ]
}