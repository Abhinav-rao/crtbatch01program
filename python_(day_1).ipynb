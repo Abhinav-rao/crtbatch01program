{
  "nbformat": 4,
  "nbformat_minor": 0,
  "metadata": {
    "colab": {
      "name": "python (day 1)",
      "provenance": [],
      "collapsed_sections": []
    },
    "kernelspec": {
      "name": "python3",
      "display_name": "Python 3"
    }
  },
  "cells": [
    {
      "cell_type": "markdown",
      "metadata": {
        "id": "XazB1eQPA8dS",
        "colab_type": "text"
      },
      "source": [
        "# markdown\n",
        "## markdown\n",
        "* *google*\n",
        "* **google**\n",
        "* ***google***\n",
        "- heading\n",
        "\n",
        "   - subtitle1\n",
        "   ![image](data:image/jpeg;base64,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)\n",
        "\n"
      ]
    },
    {
      "cell_type": "markdown",
      "metadata": {
        "id": "KBUIx8sYE7Bn",
        "colab_type": "text"
      },
      "source": [
        "* [my drive](https://drive.google.com/drive/my-drive)"
      ]
    },
    {
      "cell_type": "markdown",
      "metadata": {
        "id": "QOtKH6otGgCV",
        "colab_type": "text"
      },
      "source": [
        ""
      ]
    },
    {
      "cell_type": "code",
      "metadata": {
        "id": "_edOG-DmGq7L",
        "colab_type": "code",
        "outputId": "503d0d5e-ccd8-4a40-8d11-33463bd9781b",
        "colab": {
          "base_uri": "https://localhost:8080/",
          "height": 50
        }
      },
      "source": [
        "print(\"good morning\")\n",
        "print(\"hi\")\n"
      ],
      "execution_count": 0,
      "outputs": [
        {
          "output_type": "stream",
          "text": [
            "good morning\n",
            "hi\n"
          ],
          "name": "stdout"
        }
      ]
    },
    {
      "cell_type": "code",
      "metadata": {
        "id": "KhV6OyCYHz-j",
        "colab_type": "code",
        "outputId": "8349e166-1ed0-4838-acf8-fcbeb57c0998",
        "colab": {
          "base_uri": "https://localhost:8080/",
          "height": 34
        }
      },
      "source": [
        "print(\"hello,gitam\",end=\"|||\")\n",
        "print(\"good morning\")"
      ],
      "execution_count": 0,
      "outputs": [
        {
          "output_type": "stream",
          "text": [
            "hello,gitam|||good morning\n"
          ],
          "name": "stdout"
        }
      ]
    },
    {
      "cell_type": "code",
      "metadata": {
        "id": "m6sBEg_3KDv8",
        "colab_type": "code",
        "outputId": "fbd1a66a-c008-4be7-98b9-0fb1d5819158",
        "colab": {
          "base_uri": "https://localhost:8080/",
          "height": 67
        }
      },
      "source": [
        "a=10\n",
        "print(a)\n",
        "a=b=c=15\n",
        "a,b,c=5,10,15\n",
        "print(a,b,c)\n",
        "type(a)\n"
      ],
      "execution_count": 0,
      "outputs": [
        {
          "output_type": "stream",
          "text": [
            "10\n",
            "5 10 15\n"
          ],
          "name": "stdout"
        },
        {
          "output_type": "execute_result",
          "data": {
            "text/plain": [
              "int"
            ]
          },
          "metadata": {
            "tags": []
          },
          "execution_count": 11
        }
      ]
    },
    {
      "cell_type": "code",
      "metadata": {
        "id": "g52stQhRLiRt",
        "colab_type": "code",
        "outputId": "6ef789d9-b810-4c70-da45-d1f1af6b29d0",
        "colab": {
          "base_uri": "https://localhost:8080/",
          "height": 50
        }
      },
      "source": [
        "a=10.5\n",
        "print(type(a))\n",
        "id(a)"
      ],
      "execution_count": 0,
      "outputs": [
        {
          "output_type": "stream",
          "text": [
            "<class 'float'>\n"
          ],
          "name": "stdout"
        },
        {
          "output_type": "execute_result",
          "data": {
            "text/plain": [
              "140698697271408"
            ]
          },
          "metadata": {
            "tags": []
          },
          "execution_count": 12
        }
      ]
    },
    {
      "cell_type": "code",
      "metadata": {
        "id": "Hz0vZ0C2MWxr",
        "colab_type": "code",
        "outputId": "2b280fcc-dee9-460d-fdee-e1f5aab29a4a",
        "colab": {
          "base_uri": "https://localhost:8080/",
          "height": 50
        }
      },
      "source": [
        "name = \"abhinav\"\n",
        "age = \"20\"\n",
        "print(\"my name is\",name)\n",
        "print(\"my age is\",age)"
      ],
      "execution_count": 0,
      "outputs": [
        {
          "output_type": "stream",
          "text": [
            "my name is abhinav\n",
            "my age is 20\n"
          ],
          "name": "stdout"
        }
      ]
    },
    {
      "cell_type": "code",
      "metadata": {
        "id": "Z1hCHYL7QKGG",
        "colab_type": "code",
        "outputId": "2567a5bb-30f8-43f0-abaa-66c54377b183",
        "colab": {
          "base_uri": "https://localhost:8080/",
          "height": 50
        }
      },
      "source": [
        "a=input(\"enter the name:\")\n",
        "type(a)\n"
      ],
      "execution_count": 0,
      "outputs": [
        {
          "output_type": "stream",
          "text": [
            "enter the name:abhi\n"
          ],
          "name": "stdout"
        },
        {
          "output_type": "execute_result",
          "data": {
            "text/plain": [
              "str"
            ]
          },
          "metadata": {
            "tags": []
          },
          "execution_count": 18
        }
      ]
    },
    {
      "cell_type": "code",
      "metadata": {
        "id": "Xq9lBNFiRtq0",
        "colab_type": "code",
        "outputId": "6273f459-12c5-4a5d-ccfe-5d75fe94b29f",
        "colab": {
          "base_uri": "https://localhost:8080/",
          "height": 67
        }
      },
      "source": [
        "a = int(input(\"enter a number\"))\n",
        "b = int(input(\"enter a number\"))\n",
        "c = a+b \n",
        "print(c)"
      ],
      "execution_count": 0,
      "outputs": [
        {
          "output_type": "stream",
          "text": [
            "enter a number10\n",
            "enter a number20\n",
            "30\n"
          ],
          "name": "stdout"
        }
      ]
    },
    {
      "cell_type": "code",
      "metadata": {
        "id": "3CApSI3ySL82",
        "colab_type": "code",
        "outputId": "fe224b3c-b2da-4098-ebaa-d03d26d03254",
        "colab": {
          "base_uri": "https://localhost:8080/",
          "height": 50
        }
      },
      "source": [
        "d = float(input(\"enter a anumber\"))\n",
        "type(d)\n"
      ],
      "execution_count": 0,
      "outputs": [
        {
          "output_type": "stream",
          "text": [
            "enter a anumber13.9\n"
          ],
          "name": "stdout"
        },
        {
          "output_type": "execute_result",
          "data": {
            "text/plain": [
              "float"
            ]
          },
          "metadata": {
            "tags": []
          },
          "execution_count": 20
        }
      ]
    },
    {
      "cell_type": "code",
      "metadata": {
        "id": "8ri_aDXVTJi0",
        "colab_type": "code",
        "outputId": "b62e73b5-5f89-4835-c774-abeb0be8cdc3",
        "colab": {
          "base_uri": "https://localhost:8080/",
          "height": 50
        }
      },
      "source": [
        "x = 10\n",
        "print(x)\n",
        "type(x)"
      ],
      "execution_count": 0,
      "outputs": [
        {
          "output_type": "stream",
          "text": [
            "10\n"
          ],
          "name": "stdout"
        },
        {
          "output_type": "execute_result",
          "data": {
            "text/plain": [
              "int"
            ]
          },
          "metadata": {
            "tags": []
          },
          "execution_count": 21
        }
      ]
    },
    {
      "cell_type": "code",
      "metadata": {
        "id": "jtJpJUuFTRbc",
        "colab_type": "code",
        "outputId": "53ae8745-8117-437f-fec6-3f3aa47a78b8",
        "colab": {
          "base_uri": "https://localhost:8080/",
          "height": 50
        }
      },
      "source": [
        "y = 13.9\n",
        "print(y)\n",
        "type(y)"
      ],
      "execution_count": 0,
      "outputs": [
        {
          "output_type": "stream",
          "text": [
            "13.9\n"
          ],
          "name": "stdout"
        },
        {
          "output_type": "execute_result",
          "data": {
            "text/plain": [
              "float"
            ]
          },
          "metadata": {
            "tags": []
          },
          "execution_count": 22
        }
      ]
    },
    {
      "cell_type": "code",
      "metadata": {
        "id": "CtJhIrO3Tbbc",
        "colab_type": "code",
        "outputId": "ad4ebb36-1928-48ce-91b7-923649bb2156",
        "colab": {
          "base_uri": "https://localhost:8080/",
          "height": 50
        }
      },
      "source": [
        "z = 2+3j\n",
        "print(z)\n",
        "type(z)"
      ],
      "execution_count": 0,
      "outputs": [
        {
          "output_type": "stream",
          "text": [
            "(2+3j)\n"
          ],
          "name": "stdout"
        },
        {
          "output_type": "execute_result",
          "data": {
            "text/plain": [
              "complex"
            ]
          },
          "metadata": {
            "tags": []
          },
          "execution_count": 23
        }
      ]
    },
    {
      "cell_type": "code",
      "metadata": {
        "id": "h6ynElIwUMis",
        "colab_type": "code",
        "outputId": "94e4cc4d-7091-45bb-c421-d652f00738dd",
        "colab": {
          "base_uri": "https://localhost:8080/",
          "height": 34
        }
      },
      "source": [
        "x = float(12)\n",
        "x"
      ],
      "execution_count": 0,
      "outputs": [
        {
          "output_type": "execute_result",
          "data": {
            "text/plain": [
              "12.0"
            ]
          },
          "metadata": {
            "tags": []
          },
          "execution_count": 24
        }
      ]
    },
    {
      "cell_type": "code",
      "metadata": {
        "id": "cUcefULAUurM",
        "colab_type": "code",
        "outputId": "0b2f529c-af65-41e2-807b-a0fa740b4dbd",
        "colab": {
          "base_uri": "https://localhost:8080/",
          "height": 34
        }
      },
      "source": [
        "y = complex(2,1)\n",
        "y"
      ],
      "execution_count": 0,
      "outputs": [
        {
          "output_type": "execute_result",
          "data": {
            "text/plain": [
              "(2+1j)"
            ]
          },
          "metadata": {
            "tags": []
          },
          "execution_count": 25
        }
      ]
    },
    {
      "cell_type": "code",
      "metadata": {
        "id": "nQaQyaa5U-d-",
        "colab_type": "code",
        "outputId": "5862701e-3be7-450e-9204-4f47b2da9796",
        "colab": {
          "base_uri": "https://localhost:8080/",
          "height": 67
        }
      },
      "source": [
        "c1 = 1+2j\n",
        "c2 = 2+3j\n",
        "print(c1+c2)\n",
        "print(c1-c2)\n",
        "print(c1*c2)"
      ],
      "execution_count": 0,
      "outputs": [
        {
          "output_type": "stream",
          "text": [
            "(3+5j)\n",
            "(-1-1j)\n",
            "(-4+7j)\n"
          ],
          "name": "stdout"
        }
      ]
    },
    {
      "cell_type": "code",
      "metadata": {
        "id": "ebNpUlqyWAJU",
        "colab_type": "code",
        "outputId": "b3601933-86ec-44f7-b15e-99a8faa1c080",
        "colab": {
          "base_uri": "https://localhost:8080/",
          "height": 34
        }
      },
      "source": [
        "a = True\n",
        "type(a)"
      ],
      "execution_count": 0,
      "outputs": [
        {
          "output_type": "execute_result",
          "data": {
            "text/plain": [
              "bool"
            ]
          },
          "metadata": {
            "tags": []
          },
          "execution_count": 27
        }
      ]
    },
    {
      "cell_type": "code",
      "metadata": {
        "id": "n0nQdmxyWItu",
        "colab_type": "code",
        "outputId": "6fff475b-9d06-4e9c-cf6f-18dd94d5f49c",
        "colab": {
          "base_uri": "https://localhost:8080/",
          "height": 34
        }
      },
      "source": [
        "b = False\n",
        "type(b)\n"
      ],
      "execution_count": 0,
      "outputs": [
        {
          "output_type": "execute_result",
          "data": {
            "text/plain": [
              "bool"
            ]
          },
          "metadata": {
            "tags": []
          },
          "execution_count": 28
        }
      ]
    },
    {
      "cell_type": "code",
      "metadata": {
        "id": "sf50LG21WfIl",
        "colab_type": "code",
        "outputId": "a514d654-1335-4124-dbbd-2610688c45ff",
        "colab": {
          "base_uri": "https://localhost:8080/",
          "height": 34
        }
      },
      "source": [
        "a>b\n"
      ],
      "execution_count": 0,
      "outputs": [
        {
          "output_type": "execute_result",
          "data": {
            "text/plain": [
              "True"
            ]
          },
          "metadata": {
            "tags": []
          },
          "execution_count": 29
        }
      ]
    },
    {
      "cell_type": "code",
      "metadata": {
        "id": "vrhgtVKpW41G",
        "colab_type": "code",
        "outputId": "ac5cc48e-8f5b-4982-a150-4c9f7e1786e3",
        "colab": {
          "base_uri": "https://localhost:8080/",
          "height": 50
        }
      },
      "source": [
        "s1 = \"abhi\"\n",
        "s2 = 'abhi'\n",
        "print(s1)\n",
        "s2"
      ],
      "execution_count": 0,
      "outputs": [
        {
          "output_type": "stream",
          "text": [
            "abhi\n"
          ],
          "name": "stdout"
        },
        {
          "output_type": "execute_result",
          "data": {
            "text/plain": [
              "'abhi'"
            ]
          },
          "metadata": {
            "tags": []
          },
          "execution_count": 30
        }
      ]
    },
    {
      "cell_type": "code",
      "metadata": {
        "id": "nqRtXux-XaV9",
        "colab_type": "code",
        "outputId": "0a4c67c8-58d8-4e62-856e-248360c00ad8",
        "colab": {
          "base_uri": "https://localhost:8080/",
          "height": 34
        }
      },
      "source": [
        "type(s1)\n",
        "type(s2)"
      ],
      "execution_count": 0,
      "outputs": [
        {
          "output_type": "execute_result",
          "data": {
            "text/plain": [
              "str"
            ]
          },
          "metadata": {
            "tags": []
          },
          "execution_count": 31
        }
      ]
    },
    {
      "cell_type": "code",
      "metadata": {
        "id": "7yZySbsdXqxV",
        "colab_type": "code",
        "outputId": "0a9ab39e-cf50-4df2-de96-912dc92c6110",
        "colab": {
          "base_uri": "https://localhost:8080/",
          "height": 34
        }
      },
      "source": [
        "i = 100\n",
        "print(type(i))"
      ],
      "execution_count": 0,
      "outputs": [
        {
          "output_type": "stream",
          "text": [
            "<class 'int'>\n"
          ],
          "name": "stdout"
        }
      ]
    },
    {
      "cell_type": "code",
      "metadata": {
        "id": "6ohS4Ow2e_5z",
        "colab_type": "code",
        "colab": {}
      },
      "source": [
        ""
      ],
      "execution_count": 0,
      "outputs": []
    },
    {
      "cell_type": "code",
      "metadata": {
        "id": "BbCb17-OX8Uu",
        "colab_type": "code",
        "outputId": "1b9ebb31-a4e7-4a3f-ea18-956ac002b3bc",
        "colab": {
          "base_uri": "https://localhost:8080/",
          "height": 50
        }
      },
      "source": [
        "s1 = str(i)\n",
        "print(s1)\n",
        "type(s1)"
      ],
      "execution_count": 0,
      "outputs": [
        {
          "output_type": "stream",
          "text": [
            "100\n"
          ],
          "name": "stdout"
        },
        {
          "output_type": "execute_result",
          "data": {
            "text/plain": [
              "str"
            ]
          },
          "metadata": {
            "tags": []
          },
          "execution_count": 33
        }
      ]
    },
    {
      "cell_type": "code",
      "metadata": {
        "id": "jUAh4Ri5Yc81",
        "colab_type": "code",
        "outputId": "09578d54-5629-4ac6-b3aa-061b2f30fe51",
        "colab": {
          "base_uri": "https://localhost:8080/",
          "height": 50
        }
      },
      "source": [
        "f1 = float(i)\n",
        "print(f1)\n",
        "type(f1)"
      ],
      "execution_count": 0,
      "outputs": [
        {
          "output_type": "stream",
          "text": [
            "100.0\n"
          ],
          "name": "stdout"
        },
        {
          "output_type": "execute_result",
          "data": {
            "text/plain": [
              "float"
            ]
          },
          "metadata": {
            "tags": []
          },
          "execution_count": 34
        }
      ]
    },
    {
      "cell_type": "code",
      "metadata": {
        "id": "AMu_m_isYwht",
        "colab_type": "code",
        "outputId": "bab07a1c-acd6-4a85-f86e-3d0ad0c77bd1",
        "colab": {
          "base_uri": "https://localhost:8080/",
          "height": 34
        }
      },
      "source": [
        "s = \"100\"\n",
        "print(type(s))"
      ],
      "execution_count": 0,
      "outputs": [
        {
          "output_type": "stream",
          "text": [
            "<class 'str'>\n"
          ],
          "name": "stdout"
        }
      ]
    },
    {
      "cell_type": "code",
      "metadata": {
        "id": "PMwIHm1GY79n",
        "colab_type": "code",
        "outputId": "5e13fd81-923a-4d74-8d2c-84e7b7e22520",
        "colab": {
          "base_uri": "https://localhost:8080/",
          "height": 34
        }
      },
      "source": [
        "a = int(s)\n",
        "type(a)"
      ],
      "execution_count": 0,
      "outputs": [
        {
          "output_type": "execute_result",
          "data": {
            "text/plain": [
              "int"
            ]
          },
          "metadata": {
            "tags": []
          },
          "execution_count": 36
        }
      ]
    },
    {
      "cell_type": "code",
      "metadata": {
        "id": "MD_mJOSGZLpe",
        "colab_type": "code",
        "outputId": "41badca9-29df-434e-bae4-3f5690ca9235",
        "colab": {
          "base_uri": "https://localhost:8080/",
          "height": 34
        }
      },
      "source": [
        "f =1.5\n",
        "type(f)"
      ],
      "execution_count": 0,
      "outputs": [
        {
          "output_type": "execute_result",
          "data": {
            "text/plain": [
              "float"
            ]
          },
          "metadata": {
            "tags": []
          },
          "execution_count": 37
        }
      ]
    },
    {
      "cell_type": "code",
      "metadata": {
        "id": "yTRFW2hdZSGF",
        "colab_type": "code",
        "outputId": "cb3f4ee0-cc6e-4e8a-b1c6-9a0bbeeb6f99",
        "colab": {
          "base_uri": "https://localhost:8080/",
          "height": 34
        }
      },
      "source": [
        "a1=int(f)\n",
        "type(a1)"
      ],
      "execution_count": 0,
      "outputs": [
        {
          "output_type": "execute_result",
          "data": {
            "text/plain": [
              "int"
            ]
          },
          "metadata": {
            "tags": []
          },
          "execution_count": 38
        }
      ]
    },
    {
      "cell_type": "code",
      "metadata": {
        "id": "Kg6UtZwXZg-H",
        "colab_type": "code",
        "outputId": "d26854ce-c7a3-43a2-dca8-1276aae776af",
        "colab": {
          "base_uri": "https://localhost:8080/",
          "height": 34
        }
      },
      "source": [
        "a = '2345'\n",
        "len(a)"
      ],
      "execution_count": 0,
      "outputs": [
        {
          "output_type": "execute_result",
          "data": {
            "text/plain": [
              "4"
            ]
          },
          "metadata": {
            "tags": []
          },
          "execution_count": 39
        }
      ]
    },
    {
      "cell_type": "code",
      "metadata": {
        "id": "w0nWc_B3bD5l",
        "colab_type": "code",
        "outputId": "fa81dbf1-430d-4d5c-cf40-3b41007492ad",
        "colab": {
          "base_uri": "https://localhost:8080/",
          "height": 134
        }
      },
      "source": [
        "n1 = 10\n",
        "n2 = 20\n",
        "print(n1+n2)\n",
        "print(n1-n2)\n",
        "print(n1*n2)\n",
        "print(n1/n2)\n",
        "print(n1%n2)\n",
        "print(n1//n2)\n",
        "print(n1**n2)\n"
      ],
      "execution_count": 0,
      "outputs": [
        {
          "output_type": "stream",
          "text": [
            "30\n",
            "-10\n",
            "200\n",
            "0.5\n",
            "10\n",
            "0\n",
            "100000000000000000000\n"
          ],
          "name": "stdout"
        }
      ]
    },
    {
      "cell_type": "code",
      "metadata": {
        "id": "czXDvFnKd3DY",
        "colab_type": "code",
        "outputId": "8755c705-400d-4c6c-ec13-a58e76ae1fbd",
        "colab": {
          "base_uri": "https://localhost:8080/",
          "height": 67
        }
      },
      "source": [
        "x = 2\n",
        "y = 3\n",
        "print(x>=5 and x<10)\n",
        "print(x>=5 or x<10)\n",
        "print(not(x))"
      ],
      "execution_count": 0,
      "outputs": [
        {
          "output_type": "stream",
          "text": [
            "False\n",
            "True\n",
            "False\n"
          ],
          "name": "stdout"
        }
      ]
    },
    {
      "cell_type": "code",
      "metadata": {
        "id": "Nz53cMi-RlBF",
        "colab_type": "code",
        "outputId": "80a33543-7724-4f40-84dc-8f1fb0212adb",
        "colab": {
          "base_uri": "https://localhost:8080/",
          "height": 118
        }
      },
      "source": [
        "x = 2\n",
        "y = 3\n",
        "print(x==y)\n",
        "print(x!=y)\n",
        "print(x<y)\n",
        "print(x>y)\n",
        "print(x<=y)\n",
        "print(x>=y)"
      ],
      "execution_count": 0,
      "outputs": [
        {
          "output_type": "stream",
          "text": [
            "False\n",
            "True\n",
            "True\n",
            "False\n",
            "True\n",
            "False\n"
          ],
          "name": "stdout"
        }
      ]
    },
    {
      "cell_type": "code",
      "metadata": {
        "id": "PmoSZ3Nyfwy0",
        "colab_type": "code",
        "outputId": "cb1ab05a-8668-4b6e-ad39-1b0811474347",
        "colab": {
          "base_uri": "https://localhost:8080/",
          "height": 50
        }
      },
      "source": [
        "str1 = 'abc'\n",
        "print('a' in str1)\n",
        "print('a' not in str1)\n"
      ],
      "execution_count": 0,
      "outputs": [
        {
          "output_type": "stream",
          "text": [
            "True\n",
            "False\n"
          ],
          "name": "stdout"
        }
      ]
    },
    {
      "cell_type": "markdown",
      "metadata": {
        "id": "M5ikCeAwgrHG",
        "colab_type": "text"
      },
      "source": [
        "conditional statements\n"
      ]
    },
    {
      "cell_type": "code",
      "metadata": {
        "id": "7RQ_wzjCgvOX",
        "colab_type": "code",
        "outputId": "af2ae44e-a751-4e11-fbac-4c13ea16d8be",
        "colab": {
          "base_uri": "https://localhost:8080/",
          "height": 34
        }
      },
      "source": [
        "a = 10\n",
        "if a>0:\n",
        "  print(\"+value\")"
      ],
      "execution_count": 0,
      "outputs": [
        {
          "output_type": "stream",
          "text": [
            "+value\n"
          ],
          "name": "stdout"
        }
      ]
    },
    {
      "cell_type": "code",
      "metadata": {
        "id": "CUknqJasjDJj",
        "colab_type": "code",
        "outputId": "52ad8e20-af6f-40c4-82b4-d327c20dd533",
        "colab": {
          "base_uri": "https://localhost:8080/",
          "height": 34
        }
      },
      "source": [
        "a = 20\n",
        "if a>0:\n",
        "  print(\"+value\")\n",
        "else:\n",
        "  print(\"-value\")  "
      ],
      "execution_count": 0,
      "outputs": [
        {
          "output_type": "stream",
          "text": [
            "+value\n"
          ],
          "name": "stdout"
        }
      ]
    },
    {
      "cell_type": "code",
      "metadata": {
        "id": "Nv2zNAsfjrGQ",
        "colab_type": "code",
        "outputId": "5e427c85-72af-4b3b-cd32-2fbb5ae6369c",
        "colab": {
          "base_uri": "https://localhost:8080/",
          "height": 34
        }
      },
      "source": [
        "a = 20\n",
        "if a>0:\n",
        "  print(\"+value\")\n",
        "elif a<0:\n",
        "  print(\"-value\")  \n",
        "else:\n",
        "  print(\"zero\")  "
      ],
      "execution_count": 0,
      "outputs": [
        {
          "output_type": "stream",
          "text": [
            "+value\n"
          ],
          "name": "stdout"
        }
      ]
    },
    {
      "cell_type": "markdown",
      "metadata": {
        "id": "hgqiij41k1oJ",
        "colab_type": "text"
      },
      "source": [
        "#to check given number is even or odd\n",
        "#to check given number is multiple of 3and 5\n",
        "#to check the given number is leap year or not\n",
        "#take three numbers as input and find the biggest of three numbers\n",
        "#readthe character and find wheter is its is vowel or consonant\n",
        " \n"
      ]
    },
    {
      "cell_type": "code",
      "metadata": {
        "id": "4v51yhH8lqKt",
        "colab_type": "code",
        "colab": {}
      },
      "source": [
        ""
      ],
      "execution_count": 0,
      "outputs": []
    }
  ]
}